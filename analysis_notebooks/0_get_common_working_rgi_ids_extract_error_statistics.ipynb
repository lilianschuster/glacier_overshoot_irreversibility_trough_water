{
 "cells": [
  {
   "cell_type": "markdown",
   "id": "bdc6291f-a4af-4ec4-bf21-c1e8cf7bc11d",
   "metadata": {},
   "source": [
    "# Create the common working RGI list and analyse amount of errors per region ... \n",
    "- uses the RGI batch files `/home/www/lschuster/provide/gfdl-esm2m_oversh_stab_uni_bern/runs/output/RGI{rgi_reg_s}/run_hydro_w5e5_gcm_merged_from_2000_gfdl-esm2...` as input \n",
    "- creates `working_rgis_for_oversh_stab_scenario_bc_1980_2019.csv`\n",
    "- creates `random_climate_run_20000years_working_rgis_for_oversh_stab_scenarios_1980_2019.csv`\n",
    "\n",
    "- similar to [error_analysis_v1.ipynb](https://nbviewer.org/urls/cluster.klima.uni-bremen.de/~lschuster/error_analysis/error_analysis_v1.ipynb?flush_cache=true#Analysis-for-Level-5-pre-processing-directories!)"
   ]
  },
  {
   "cell_type": "code",
   "execution_count": 37,
   "id": "010a4dde-97d6-421f-abff-3de9c477dcc1",
   "metadata": {},
   "outputs": [
    {
     "name": "stderr",
     "output_type": "stream",
     "text": [
      "2024-03-04 18:10:20: oggm.cfg: Reading default parameters from the OGGM `params.cfg` configuration file.\n",
      "2024-03-04 18:10:20: oggm.cfg: Multiprocessing switched OFF according to the parameter file.\n",
      "2024-03-04 18:10:20: oggm.cfg: Multiprocessing: using all available processors (N=32)\n"
     ]
    }
   ],
   "source": [
    "from oggm import cfg, workflow, utils, shop\n",
    "import pandas as pd\n",
    "import os, glob\n",
    "import numpy as np\n",
    "import xarray as xr\n",
    "import seaborn as sns\n",
    "import matplotlib.pyplot as plt\n",
    "sns.set_style(\"whitegrid\")\n",
    "\n",
    "cfg.initialize()\n",
    "\n",
    "import matplotlib\n",
    "matplotlib.rcParams['figure.figsize'] = (14, 8)\n",
    "frgi = utils.file_downloader('https://cluster.klima.uni-bremen.de/~oggm/rgi/rgi62_stats.h5')\n",
    "#frgi = '/home/users/lschuster/glacierMIP/rgi62_stats.h5'\n",
    "odf = pd.read_hdf(frgi, index_col=0)"
   ]
  },
  {
   "cell_type": "code",
   "execution_count": 38,
   "id": "95c11c7e-c2ea-416b-ba22-5592120b183f",
   "metadata": {},
   "outputs": [],
   "source": [
    "import geopandas as gpd"
   ]
  },
  {
   "cell_type": "code",
   "execution_count": 39,
   "id": "32a69b2f-49a5-4661-b6b0-8546acdd8cbf",
   "metadata": {},
   "outputs": [],
   "source": [
    "rgi_reg=5\n",
    "rgi_reg_s = '05'"
   ]
  },
  {
   "cell_type": "code",
   "execution_count": 40,
   "id": "8b0a551c-da1f-418f-8860-ee3c90ca888e",
   "metadata": {},
   "outputs": [],
   "source": [
    "rgi_ids = gpd.read_file(utils.get_rgi_region_file(rgi_reg_s, version='62'))\n",
    "if rgi_reg_s == '05':\n",
    "    rgidf = rgi_ids.loc[(rgi_ids['Connect'] == 0) | (rgi_ids['Connect'] ==1)]\n",
    "odf = odf.loc[(odf['Connect'] == 0) | (odf['Connect'] ==1)]"
   ]
  },
  {
   "cell_type": "code",
   "execution_count": 35,
   "id": "7da2899d-e103-4416-894a-0ff5ae39953e",
   "metadata": {},
   "outputs": [
    {
     "data": {
      "text/plain": [
       "0        5\n",
       "1        5\n",
       "2        5\n",
       "3        5\n",
       "4        5\n",
       "        ..\n",
       "20256    5\n",
       "20257    5\n",
       "20258    5\n",
       "20259    5\n",
       "20260    5\n",
       "Name: O1Region, Length: 19306, dtype: object"
      ]
     },
     "execution_count": 35,
     "metadata": {},
     "output_type": "execute_result"
    }
   ],
   "source": [
    "rgidf.O1Region"
   ]
  },
  {
   "cell_type": "code",
   "execution_count": 5,
   "id": "de3d0547-a3ef-49f2-92fe-3ac992a2b6a1",
   "metadata": {},
   "outputs": [],
   "source": [
    "scenarios = ['stab_T12','stab_T15','oversh_T20OS15','oversh_T25OS15',\n",
    "                     'oversh_T30OS15','stab_T20','stab_T25','stab_T30']"
   ]
  },
  {
   "cell_type": "markdown",
   "id": "2ceda10f-441c-47c0-b6bc-c8ed02861759",
   "metadata": {},
   "source": [
    "**Preprocessing errors**"
   ]
  },
  {
   "cell_type": "code",
   "execution_count": 14,
   "id": "fd8c0e7e-1fcb-4299-9cbd-f524be3241ec",
   "metadata": {},
   "outputs": [],
   "source": [
    "rgi_reg_l = []\n",
    "for rgi_reg in np.arange(1,20,1):\n",
    "    if rgi_reg <10:\n",
    "        rgi_reg = f'0{rgi_reg}'\n",
    "    else:\n",
    "        rgi_reg = f'{rgi_reg}'\n",
    "    rgi_reg_l.append(rgi_reg)\n",
    "rgi_reg_l.append('all')\n",
    "\n",
    "\n",
    "columns = ['rgi_reg', 'option','version','border', 'perc_area_miss', 'perc_glac_miss'] #+ opts + opts_w\n",
    "pd_stats_l = []\n",
    "working_rgis_l = []\n",
    "option = 'W5E5_spinup'\n",
    "border = 'b_160'\n",
    "pd_stats = pd.DataFrame(columns=columns,\n",
    "                index = rgi_reg_l)\n",
    "path = '/home/www/oggm/gdirs/oggm_v1.6/'\n",
    "add = f'L3-L5_files/2023.3/elev_bands/{option}/RGI62/{border}/L5/summary/'\n",
    "stats_l = []\n",
    "for rgi_reg in rgi_reg_l[:-1]:\n",
    "    stats_l.append(pd.read_csv(path+add+f'glacier_statistics_{rgi_reg}.csv', low_memory=False))\n",
    "stats = pd.concat(stats_l)  \n",
    "\n",
    "stats_w = stats.loc[stats.error_msg.isna()]\n",
    "working_rgis_l.append(stats_w.rgi_id.values)\n",
    "perc_area_miss = 100-100*stats_w.rgi_area_km2.sum()/stats.rgi_area_km2.sum()"
   ]
  },
  {
   "cell_type": "code",
   "execution_count": 19,
   "id": "b54df8b6-8f46-4c8e-8c2c-7a58290c5013",
   "metadata": {},
   "outputs": [
    {
     "data": {
      "text/plain": [
       "0.8805692766290841"
      ]
     },
     "execution_count": 19,
     "metadata": {},
     "output_type": "execute_result"
    }
   ],
   "source": [
    "stats_w.loc[stats_w.rgi_region == 12].rgi_area_km2.sum()/ stats.loc[stats.rgi_region == 12].rgi_area_km2.sum()"
   ]
  },
  {
   "cell_type": "code",
   "execution_count": 15,
   "id": "673cf75e-ece3-4f1f-915a-b51aa01e86f0",
   "metadata": {},
   "outputs": [
    {
     "data": {
      "text/plain": [
       "0.09855175992649379"
      ]
     },
     "execution_count": 15,
     "metadata": {},
     "output_type": "execute_result"
    }
   ],
   "source": [
    "perc_area_miss"
   ]
  },
  {
   "cell_type": "markdown",
   "id": "8515f2a2-e230-4b24-b55e-9795e7d6dae6",
   "metadata": {},
   "source": [
    "## Get a list with the amount of failing glaciers and area for the different scenarios"
   ]
  },
  {
   "cell_type": "code",
   "execution_count": null,
   "id": "01175040-d07b-429b-bcc9-0c2f1a398d71",
   "metadata": {},
   "outputs": [],
   "source": []
  },
  {
   "cell_type": "code",
   "execution_count": 25,
   "id": "8b48b998-1bdc-4145-a2d4-93ce7f19d99e",
   "metadata": {},
   "outputs": [
    {
     "data": {
      "text/plain": [
       "1306.992"
      ]
     },
     "execution_count": 25,
     "metadata": {},
     "output_type": "execute_result"
    }
   ],
   "source": [
    "stats.loc[stats.rgi_region == 12].rgi_area_km2.sum()"
   ]
  },
  {
   "cell_type": "code",
   "execution_count": 27,
   "id": "45bfe8de-b28f-4e16-99f0-bcffd95f43e4",
   "metadata": {},
   "outputs": [
    {
     "data": {
      "text/plain": [
       "705738.7919999999"
      ]
     },
     "execution_count": 27,
     "metadata": {},
     "output_type": "execute_result"
    }
   ],
   "source": [
    "stats.rgi_area_km2.sum()"
   ]
  },
  {
   "cell_type": "code",
   "execution_count": 28,
   "id": "848deab9-d56d-4176-83ed-fe4261b51739",
   "metadata": {},
   "outputs": [
    {
     "data": {
      "text/plain": [
       "706122.357"
      ]
     },
     "execution_count": 28,
     "metadata": {},
     "output_type": "execute_result"
    }
   ],
   "source": [
    "pd_working.area.sum()/1e6"
   ]
  },
  {
   "cell_type": "code",
   "execution_count": 26,
   "id": "8811471c-1dc7-4c33-b505-523da908e7ad",
   "metadata": {},
   "outputs": [
    {
     "data": {
      "text/plain": [
       "1462.316"
      ]
     },
     "execution_count": 26,
     "metadata": {},
     "output_type": "execute_result"
    }
   ],
   "source": [
    "pd_working.loc[pd_working.rgi_reg == 12].area.sum()/1e6"
   ]
  },
  {
   "cell_type": "code",
   "execution_count": null,
   "id": "1e1ee562-036d-4c84-876a-1d50b196879b",
   "metadata": {},
   "outputs": [],
   "source": [
    "pd_geodetic = utils.get_geodetic_mb_dataframe()[utils.get_geodetic_mb_dataframe().period=='2000-01-01_2020-01-01']\n",
    "total_area = pd_geodetic.area.sum()\n",
    "total_counts = len(pd_geodetic)\n",
    "# pd_geodetic.area\n",
    "pd_working = pd.DataFrame(index = pd_geodetic.index,\n",
    "                          columns=scenarios)\n",
    "# we will set those that are not running afterwards to np.NaN value\n",
    "pd_working.loc[pd_geodetic.index] = True\n",
    "pd_working['area'] = pd_geodetic.area\n",
    "pd_working['all_running_rgis'] = np.NaN\n",
    "pd_working['rgi_reg'] = pd_geodetic.reg\n",
    "\n",
    "for bc in ['_bc_1980_2019','_bc_2000_2019']:\n",
    "    print(bc)\n",
    "    for rgi_reg in pd_working.rgi_reg.unique():\n",
    "        print(rgi_reg)\n",
    "        if rgi_reg < 10:\n",
    "            rgi_reg_s = f'0{rgi_reg}'\n",
    "        else:\n",
    "            rgi_reg_s = f'{rgi_reg}'\n",
    "        dpath = f'/home/www/lschuster/provide/gfdl-esm2m_oversh_stab_uni_bern/runs/output/RGI{rgi_reg_s}'\n",
    "        # amount of glaciers int that rgi region\n",
    "        rgi_reg_glaciers = pd_working.loc[pd_working.rgi_reg==int(rgi_reg)].index\n",
    "        for scenario in scenarios:    \n",
    "            with xr.open_mfdataset(f'{dpath}/run_hydro_w5e5_gcm_merged_from_2000_gfdl-esm2m_{scenario}_endyr_2500{bc}_rgi{rgi_reg_s}*.nc') as ds:\n",
    "                ds = ds.volume.isel(time=0).load()\n",
    "                # make sure that all glaciers have been running\n",
    "                assert len(ds.rgi_id.values) == len(rgi_reg_glaciers)\n",
    "                rgis_error = list(set(rgi_reg_glaciers) - set(ds.dropna(dim='rgi_id').rgi_id.values))\n",
    "                pd_working.loc[rgis_error, scenario] = np.NaN\n",
    "\n",
    "    all_running_rgis = pd_working[scenarios].dropna().index\n",
    "    pd_working.loc[all_running_rgis, 'all_running_rgis'] = True\n",
    "    all_running_rel = len(all_running_rgis)*100/len(pd_geodetic)\n",
    "    all_running_rel_area_geod = pd_working.loc[all_running_rgis].area.sum()*100/pd_working.area.sum()\n",
    "    all_running_rel_area_rgi = odf.loc[all_running_rgis].Area.sum()*100/odf.Area.sum()\n",
    "\n",
    "    print(f'Amount of glaciers that run over the entire time period: {len(all_running_rgis)}')\n",
    "    print(f'Relative percentage of glacier amount where all scenarios could run over the entire time period: {all_running_rel:0.2f}%')\n",
    "    print(f'Relative percentage of glacier area where all scenarios could run over the entire time period: via geod {all_running_rel_area_geod:0.2f}%, via rgi area {all_running_rel_area_rgi:0.2f}%')\n",
    "    #pd_rel_error_area_L5.to_csv('rel_error_area_statistics_for_oversh_stab_scenarios.csv')\n",
    "    pd_working.to_csv(f'working_rgis_for_oversh_stab_scenarios{bc}.csv')\n",
    "    print('\\n')"
   ]
  },
  {
   "cell_type": "code",
   "execution_count": 47,
   "id": "30163823-3c16-4f3a-b387-8cb079668a89",
   "metadata": {},
   "outputs": [
    {
     "name": "stdout",
     "output_type": "stream",
     "text": [
      "Amount of glaciers that run over the entire time period: 212762\n",
      "Relative percentage of glacier amount where all scenarios could run over the entire time period: 98.71%\n",
      "Relative percentage of glacier area where all scenarios could run over the entire time period: via geod 99.58%, via rgi area 99.57%\n",
      "\n",
      "\n"
     ]
    }
   ],
   "source": [
    "all_running_rel_area_rgi = odf.loc[all_running_rgis].Area.sum()*100/odf.Area.sum()\n",
    "\n",
    "print(f'Amount of glaciers that run over the entire time period: {len(all_running_rgis)}')\n",
    "print(f'Relative percentage of glacier amount where all scenarios could run over the entire time period: {all_running_rel:0.2f}%')\n",
    "print(f'Relative percentage of glacier area where all scenarios could run over the entire time period: via geod {all_running_rel_area_geod:0.2f}%, via rgi area {all_running_rel_area_rgi:0.2f}%')\n",
    "#pd_rel_error_area_L5.to_csv('rel_error_area_statistics_for_oversh_stab_scenarios.csv')\n",
    "pd_working.to_csv(f'working_rgis_for_oversh_stab_scenarios{bc}.csv')\n",
    "print('\\n')"
   ]
  },
  {
   "cell_type": "markdown",
   "id": "9dd560ea-822e-4687-a0f3-049c608a1ad2",
   "metadata": {},
   "source": [
    "##### Do the same for every RGI region:"
   ]
  },
  {
   "cell_type": "code",
   "execution_count": 53,
   "id": "03b52cca-f6bf-4281-b90e-69eb1cb0377c",
   "metadata": {},
   "outputs": [
    {
     "name": "stdout",
     "output_type": "stream",
     "text": [
      "RGI01\n",
      "Amount of glaciers that run over the entire time period: 27026\n",
      "Relative percentage of glacier amount where all scenarios could run over the entire time period: 99.70%\n",
      "Relative percentage of glacier area where all scenarios could run over the entire time period: via geod 99.98%, via area 99.98%\n",
      "\n",
      "\n",
      "RGI02\n",
      "Amount of glaciers that run over the entire time period: 18721\n",
      "Relative percentage of glacier amount where all scenarios could run over the entire time period: 99.29%\n",
      "Relative percentage of glacier area where all scenarios could run over the entire time period: via geod 99.96%, via area 99.96%\n",
      "\n",
      "\n",
      "RGI03\n",
      "Amount of glaciers that run over the entire time period: 4495\n",
      "Relative percentage of glacier amount where all scenarios could run over the entire time period: 98.66%\n",
      "Relative percentage of glacier area where all scenarios could run over the entire time period: via geod 99.97%, via area 99.97%\n",
      "\n",
      "\n",
      "RGI04\n",
      "Amount of glaciers that run over the entire time period: 7349\n",
      "Relative percentage of glacier amount where all scenarios could run over the entire time period: 99.11%\n",
      "Relative percentage of glacier area where all scenarios could run over the entire time period: via geod 99.95%, via area 99.95%\n",
      "\n",
      "\n",
      "RGI05\n",
      "Amount of glaciers that run over the entire time period: 19162\n",
      "Relative percentage of glacier amount where all scenarios could run over the entire time period: 99.25%\n",
      "Relative percentage of glacier area where all scenarios could run over the entire time period: via geod 99.97%, via area 99.97%\n",
      "\n",
      "\n",
      "RGI06\n",
      "Amount of glaciers that run over the entire time period: 567\n",
      "Relative percentage of glacier amount where all scenarios could run over the entire time period: 99.82%\n",
      "Relative percentage of glacier area where all scenarios could run over the entire time period: via geod 100.00%, via area 100.00%\n",
      "\n",
      "\n",
      "RGI07\n",
      "Amount of glaciers that run over the entire time period: 1600\n",
      "Relative percentage of glacier amount where all scenarios could run over the entire time period: 99.07%\n",
      "Relative percentage of glacier area where all scenarios could run over the entire time period: via geod 98.33%, via area 98.32%\n",
      "\n",
      "\n",
      "RGI08\n",
      "Amount of glaciers that run over the entire time period: 3393\n",
      "Relative percentage of glacier amount where all scenarios could run over the entire time period: 99.30%\n",
      "Relative percentage of glacier area where all scenarios could run over the entire time period: via geod 99.94%, via area 99.94%\n",
      "\n",
      "\n",
      "RGI09\n",
      "Amount of glaciers that run over the entire time period: 1057\n",
      "Relative percentage of glacier amount where all scenarios could run over the entire time period: 98.88%\n",
      "Relative percentage of glacier area where all scenarios could run over the entire time period: via geod 99.87%, via area 99.87%\n",
      "\n",
      "\n",
      "RGI10\n",
      "Amount of glaciers that run over the entire time period: 4910\n",
      "Relative percentage of glacier amount where all scenarios could run over the entire time period: 95.32%\n",
      "Relative percentage of glacier area where all scenarios could run over the entire time period: via geod 96.08%, via area 96.08%\n",
      "\n",
      "\n",
      "RGI11\n",
      "Amount of glaciers that run over the entire time period: 3895\n",
      "Relative percentage of glacier amount where all scenarios could run over the entire time period: 99.19%\n",
      "Relative percentage of glacier area where all scenarios could run over the entire time period: via geod 99.94%, via area 99.94%\n",
      "\n",
      "\n",
      "RGI12\n",
      "Amount of glaciers that run over the entire time period: 1539\n",
      "Relative percentage of glacier amount where all scenarios could run over the entire time period: 81.51%\n",
      "Relative percentage of glacier area where all scenarios could run over the entire time period: via geod 90.84%, via area 88.04%\n",
      "\n",
      "\n",
      "RGI13\n",
      "Amount of glaciers that run over the entire time period: 53865\n",
      "Relative percentage of glacier amount where all scenarios could run over the entire time period: 98.96%\n",
      "Relative percentage of glacier area where all scenarios could run over the entire time period: via geod 99.72%, via area 99.72%\n",
      "\n",
      "\n",
      "RGI14\n",
      "Amount of glaciers that run over the entire time period: 27674\n",
      "Relative percentage of glacier amount where all scenarios could run over the entire time period: 98.88%\n",
      "Relative percentage of glacier area where all scenarios could run over the entire time period: via geod 99.77%, via area 99.77%\n",
      "\n",
      "\n",
      "RGI15\n",
      "Amount of glaciers that run over the entire time period: 13041\n",
      "Relative percentage of glacier amount where all scenarios could run over the entire time period: 99.41%\n",
      "Relative percentage of glacier area where all scenarios could run over the entire time period: via geod 99.78%, via area 99.78%\n",
      "\n",
      "\n",
      "RGI16\n",
      "Amount of glaciers that run over the entire time period: 2926\n",
      "Relative percentage of glacier amount where all scenarios could run over the entire time period: 99.56%\n",
      "Relative percentage of glacier area where all scenarios could run over the entire time period: via geod 99.97%, via area 99.97%\n",
      "\n",
      "\n",
      "RGI17\n",
      "Amount of glaciers that run over the entire time period: 15798\n",
      "Relative percentage of glacier amount where all scenarios could run over the entire time period: 99.31%\n",
      "Relative percentage of glacier area where all scenarios could run over the entire time period: via geod 99.69%, via area 99.69%\n",
      "\n",
      "\n",
      "RGI18\n",
      "Amount of glaciers that run over the entire time period: 3536\n",
      "Relative percentage of glacier amount where all scenarios could run over the entire time period: 99.97%\n",
      "Relative percentage of glacier area where all scenarios could run over the entire time period: via geod 100.00%, via area 100.00%\n",
      "\n",
      "\n",
      "RGI19\n",
      "Amount of glaciers that run over the entire time period: 2208\n",
      "Relative percentage of glacier amount where all scenarios could run over the entire time period: 80.23%\n",
      "Relative percentage of glacier area where all scenarios could run over the entire time period: via geod 98.75%, via area 98.75%\n",
      "\n",
      "\n"
     ]
    }
   ],
   "source": [
    "pd_working = pd.read_csv(f'working_rgis_for_oversh_stab_scenarios_bc_1980_2019.csv', index_col=[0])\n",
    " \n",
    "for rgi_reg in pd_working.rgi_reg.unique():\n",
    "    if rgi_reg < 10:\n",
    "        rgi_reg_s = f'0{rgi_reg}'\n",
    "    else:\n",
    "        rgi_reg_s = str(rgi_reg)\n",
    "    pd_working_sel = pd_working.loc[pd_working.rgi_reg==int(rgi_reg)]\n",
    "    all_running_rgis_reg = pd_working_sel[scenarios].dropna().index\n",
    "    all_running_rel_reg = len(all_running_rgis_reg)*100/len(pd_working_sel)\n",
    "    all_running_rel_area_reg = pd_working.loc[all_running_rgis_reg].area.sum()*100/pd_working_sel.area.sum()\n",
    "    \n",
    "    odf_reg = odf.loc[odf.O1Region==rgi_reg_s]\n",
    "    all_running_rel_area_reg_rgi = odf_reg.loc[all_running_rgis_reg].Area.sum()*100/odf_reg.Area.sum()\n",
    "\n",
    "    print(f'RGI{rgi_reg_s}')\n",
    "    print(f'Amount of glaciers that run over the entire time period: {len(all_running_rgis_reg)}')\n",
    "    print(f'Relative percentage of glacier amount where all scenarios could run over the entire time period: {all_running_rel_reg:0.2f}%')\n",
    "    print(f'Relative percentage of glacier area where all scenarios could run over the entire time period: via geod {all_running_rel_area_reg:0.2f}%, via area {all_running_rel_area_reg_rgi:0.2f}%')\n",
    "    print(f'\\n')"
   ]
  },
  {
   "cell_type": "code",
   "execution_count": null,
   "id": "7f7b1ecc-5ea3-48dd-a9f7-203f0dc04356",
   "metadata": {},
   "outputs": [],
   "source": []
  },
  {
   "cell_type": "code",
   "execution_count": null,
   "id": "12668d73-26c2-45cc-824d-89b21b627fe1",
   "metadata": {},
   "outputs": [],
   "source": []
  },
  {
   "cell_type": "markdown",
   "id": "e89c8913-9f6e-42c9-b62e-bc5f8afe8b44",
   "metadata": {},
   "source": [
    "### Now get the common glaciers for the random climate runs:"
   ]
  },
  {
   "cell_type": "markdown",
   "id": "f4ec7d72-bd25-43f3-b610-659af281c105",
   "metadata": {},
   "source": [
    "- less glaciers are running, specifically in RGI 03,07, 09, 19"
   ]
  },
  {
   "cell_type": "code",
   "execution_count": 8,
   "id": "92c4b37a-fca5-43ca-858a-1f840a842c7b",
   "metadata": {},
   "outputs": [
    {
     "name": "stdout",
     "output_type": "stream",
     "text": [
      "_bc_1980_2019\n",
      "1\n",
      "2\n",
      "3\n",
      "4\n",
      "5\n",
      "6\n",
      "7\n",
      "8\n",
      "9\n",
      "10\n",
      "11\n",
      "12\n",
      "13\n",
      "14\n",
      "15\n",
      "16\n",
      "17\n",
      "18\n",
      "19\n",
      "Amount of glaciers that run over the entire time period: 211897\n",
      "Relative percentage of glacier amount where all scenarios could run over the entire time period: 98.31%\n",
      "Relative percentage of glacier area where all scenarios could run over the entire time period: 95.92%\n",
      "\n",
      "\n"
     ]
    }
   ],
   "source": [
    "pd_geodetic = utils.get_geodetic_mb_dataframe()[utils.get_geodetic_mb_dataframe().period=='2000-01-01_2020-01-01']\n",
    "total_area = pd_geodetic.area.sum()\n",
    "total_counts = len(pd_geodetic)\n",
    "# pd_geodetic.area\n",
    "pd_working = pd.DataFrame(index = pd_geodetic.index,\n",
    "                          columns=scenarios)\n",
    "# we will set those that are not running afterwards to np.NaN value\n",
    "pd_working.loc[pd_geodetic.index] = True\n",
    "pd_working['area'] = pd_geodetic.area\n",
    "pd_working['all_running_rgis'] = np.NaN\n",
    "pd_working['rgi_reg'] = pd_geodetic.reg\n",
    "\n",
    "for bc in ['_bc_1980_2019']:\n",
    "    print(bc)\n",
    "    for rgi_reg in pd_working.rgi_reg.unique():\n",
    "        print(rgi_reg)\n",
    "        if rgi_reg < 10:\n",
    "            rgi_reg_s = f'0{rgi_reg}'\n",
    "        else:\n",
    "            rgi_reg_s = f'{rgi_reg}'\n",
    "        dpath = f'/home/www/lschuster/provide/gfdl-esm2m_oversh_stab_uni_bern/runs/output/RGI{rgi_reg_s}'\n",
    "        # amount of glaciers int that rgi region\n",
    "        rgi_reg_glaciers = pd_working.loc[pd_working.rgi_reg==int(rgi_reg)].index\n",
    "        for scenario in ['oversh_T30OS15','stab_T15','zero']:    \n",
    "            with xr.open_mfdataset(f'{dpath}/run_random_climate_from2500_using2399_2499_gfdl-esm2m_stab_T15_initial_{scenario}{bc}_rgi{rgi_reg_s}_*.nc') as ds:\n",
    "                ds = ds.volume.isel(time=slice(0,-1)).load()\n",
    "                # make sure that all glaciers have been running\n",
    "                assert len(ds.rgi_id.values) == len(rgi_reg_glaciers)\n",
    "                rgis_error = list(set(rgi_reg_glaciers) - set(ds.dropna(dim='rgi_id').rgi_id.values))\n",
    "                pd_working.loc[rgis_error, scenario] = np.NaN\n",
    "\n",
    "    all_running_rgis = pd_working[scenarios].dropna().index\n",
    "    pd_working.loc[all_running_rgis, 'all_running_rgis'] = True\n",
    "    all_running_rel = len(all_running_rgis)*100/len(pd_geodetic)\n",
    "    all_running_rel_area = pd_working.loc[all_running_rgis].area.sum()*100/pd_working.area.sum()\n",
    "\n",
    "    print(f'Amount of glaciers that run over the entire time period: {len(all_running_rgis)}')\n",
    "    print(f'Relative percentage of glacier amount where all scenarios could run over the entire time period: {all_running_rel:0.2f}%')\n",
    "    print(f'Relative percentage of glacier area where all scenarios could run over the entire time period: {all_running_rel_area:0.2f}%')\n",
    "    #pd_rel_error_area_L5.to_csv('rel_error_area_statistics_for_oversh_stab_scenarios.csv')\n",
    "    pd_working.to_csv(f'random_climate_run_20000years_working_rgis_for_oversh_stab_scenarios{bc}.csv')\n",
    "    print('\\n')"
   ]
  },
  {
   "cell_type": "code",
   "execution_count": 55,
   "id": "ad85843e-552b-45e8-bda0-cd4c31156b1d",
   "metadata": {},
   "outputs": [
    {
     "name": "stdout",
     "output_type": "stream",
     "text": [
      "RGI01\n",
      "Amount of glaciers that run over the entire time period: 27010\n",
      "Relative percentage of glacier amount where all scenarios could run over the entire time period: 99.64%\n",
      "Relative percentage of glacier area where all scenarios could run over the entire time period: 99.80%\n",
      "\n",
      "\n",
      "RGI02\n",
      "Amount of glaciers that run over the entire time period: 18692\n",
      "Relative percentage of glacier amount where all scenarios could run over the entire time period: 99.14%\n",
      "Relative percentage of glacier area where all scenarios could run over the entire time period: 99.95%\n",
      "\n",
      "\n",
      "RGI03\n",
      "Amount of glaciers that run over the entire time period: 4358\n",
      "Relative percentage of glacier amount where all scenarios could run over the entire time period: 95.65%\n",
      "Relative percentage of glacier area where all scenarios could run over the entire time period: 94.56%\n",
      "\n",
      "\n",
      "RGI04\n",
      "Amount of glaciers that run over the entire time period: 7194\n",
      "Relative percentage of glacier amount where all scenarios could run over the entire time period: 97.02%\n",
      "Relative percentage of glacier area where all scenarios could run over the entire time period: 99.76%\n",
      "\n",
      "\n",
      "RGI05\n",
      "Amount of glaciers that run over the entire time period: 19022\n",
      "Relative percentage of glacier amount where all scenarios could run over the entire time period: 98.53%\n",
      "Relative percentage of glacier area where all scenarios could run over the entire time period: 99.89%\n",
      "\n",
      "\n",
      "RGI06\n",
      "Amount of glaciers that run over the entire time period: 567\n",
      "Relative percentage of glacier amount where all scenarios could run over the entire time period: 99.82%\n",
      "Relative percentage of glacier area where all scenarios could run over the entire time period: 100.00%\n",
      "\n",
      "\n",
      "RGI07\n",
      "Amount of glaciers that run over the entire time period: 1504\n",
      "Relative percentage of glacier amount where all scenarios could run over the entire time period: 93.13%\n",
      "Relative percentage of glacier area where all scenarios could run over the entire time period: 81.40%\n",
      "\n",
      "\n",
      "RGI08\n",
      "Amount of glaciers that run over the entire time period: 3391\n",
      "Relative percentage of glacier amount where all scenarios could run over the entire time period: 99.24%\n",
      "Relative percentage of glacier area where all scenarios could run over the entire time period: 99.92%\n",
      "\n",
      "\n",
      "RGI09\n",
      "Amount of glaciers that run over the entire time period: 957\n",
      "Relative percentage of glacier amount where all scenarios could run over the entire time period: 89.52%\n",
      "Relative percentage of glacier area where all scenarios could run over the entire time period: 84.32%\n",
      "\n",
      "\n",
      "RGI10\n",
      "Amount of glaciers that run over the entire time period: 4864\n",
      "Relative percentage of glacier amount where all scenarios could run over the entire time period: 94.43%\n",
      "Relative percentage of glacier area where all scenarios could run over the entire time period: 95.94%\n",
      "\n",
      "\n",
      "RGI11\n",
      "Amount of glaciers that run over the entire time period: 3896\n",
      "Relative percentage of glacier amount where all scenarios could run over the entire time period: 99.21%\n",
      "Relative percentage of glacier area where all scenarios could run over the entire time period: 99.95%\n",
      "\n",
      "\n",
      "RGI12\n",
      "Amount of glaciers that run over the entire time period: 1539\n",
      "Relative percentage of glacier amount where all scenarios could run over the entire time period: 81.51%\n",
      "Relative percentage of glacier area where all scenarios could run over the entire time period: 88.05%\n",
      "\n",
      "\n",
      "RGI13\n",
      "Amount of glaciers that run over the entire time period: 53670\n",
      "Relative percentage of glacier amount where all scenarios could run over the entire time period: 98.61%\n",
      "Relative percentage of glacier area where all scenarios could run over the entire time period: 98.85%\n",
      "\n",
      "\n",
      "RGI14\n",
      "Amount of glaciers that run over the entire time period: 27704\n",
      "Relative percentage of glacier amount where all scenarios could run over the entire time period: 98.99%\n",
      "Relative percentage of glacier area where all scenarios could run over the entire time period: 99.79%\n",
      "\n",
      "\n",
      "RGI15\n",
      "Amount of glaciers that run over the entire time period: 13075\n",
      "Relative percentage of glacier amount where all scenarios could run over the entire time period: 99.66%\n",
      "Relative percentage of glacier area where all scenarios could run over the entire time period: 99.89%\n",
      "\n",
      "\n",
      "RGI16\n",
      "Amount of glaciers that run over the entire time period: 2928\n",
      "Relative percentage of glacier amount where all scenarios could run over the entire time period: 99.63%\n",
      "Relative percentage of glacier area where all scenarios could run over the entire time period: 99.97%\n",
      "\n",
      "\n",
      "RGI17\n",
      "Amount of glaciers that run over the entire time period: 15791\n",
      "Relative percentage of glacier amount where all scenarios could run over the entire time period: 99.26%\n",
      "Relative percentage of glacier area where all scenarios could run over the entire time period: 99.67%\n",
      "\n",
      "\n",
      "RGI18\n",
      "Amount of glaciers that run over the entire time period: 3536\n",
      "Relative percentage of glacier amount where all scenarios could run over the entire time period: 99.97%\n",
      "Relative percentage of glacier area where all scenarios could run over the entire time period: 100.00%\n",
      "\n",
      "\n",
      "RGI19\n",
      "Amount of glaciers that run over the entire time period: 2199\n",
      "Relative percentage of glacier amount where all scenarios could run over the entire time period: 79.91%\n",
      "Relative percentage of glacier area where all scenarios could run over the entire time period: 94.49%\n",
      "\n",
      "\n"
     ]
    }
   ],
   "source": [
    "bc = '_bc_1980_2019'\n",
    "pd_working = pd.read_csv(f'random_climate_run_20000years_working_rgis_for_oversh_stab_scenarios{bc}.csv', index_col=[0])\n",
    "\n",
    "for rgi_reg in pd_working.rgi_reg.unique():\n",
    "    if rgi_reg < 10:\n",
    "        rgi_reg_s = f'0{rgi_reg}'\n",
    "    else:\n",
    "        rgi_reg_s = str(rgi_reg)\n",
    "    pd_working_sel = pd_working.loc[pd_working.rgi_reg==int(rgi_reg)]\n",
    "    all_running_rgis_reg = pd_working_sel[scenarios].dropna().index\n",
    "    all_running_rel_reg = len(all_running_rgis_reg)*100/len(pd_working_sel)\n",
    "    #all_running_rel_area_reg = pd_working.loc[all_running_rgis_reg].area.sum()*100/pd_working_sel.area.sum()\n",
    "    odf_reg = odf.loc[odf.O1Region==rgi_reg_s]\n",
    "    all_running_rel_area_reg_rgi = odf_reg.loc[all_running_rgis_reg].Area.sum()*100/odf_reg.Area.sum()\n",
    "    print(f'RGI{rgi_reg_s}')\n",
    "    print(f'Amount of glaciers that run over the entire time period: {len(all_running_rgis_reg)}')\n",
    "    print(f'Relative percentage of glacier amount where all scenarios could run over the entire time period: {all_running_rel_reg:0.2f}%')\n",
    "    print(f'Relative percentage of glacier area where all scenarios could run over the entire time period: {all_running_rel_area_reg_rgi:0.2f}%')\n",
    "    print(f'\\n')"
   ]
  },
  {
   "cell_type": "code",
   "execution_count": null,
   "id": "1e6b45c9-689b-463d-ab55-b627cc84849c",
   "metadata": {},
   "outputs": [],
   "source": []
  }
 ],
 "metadata": {
  "kernelspec": {
   "display_name": "Python 3 (ipykernel)",
   "language": "python",
   "name": "python3"
  },
  "language_info": {
   "codemirror_mode": {
    "name": "ipython",
    "version": 3
   },
   "file_extension": ".py",
   "mimetype": "text/x-python",
   "name": "python",
   "nbconvert_exporter": "python",
   "pygments_lexer": "ipython3",
   "version": "3.10.12"
  }
 },
 "nbformat": 4,
 "nbformat_minor": 5
}
